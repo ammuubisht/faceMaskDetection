{
 "cells": [
  {
   "cell_type": "code",
   "execution_count": 1,
   "id": "fa7dfbd7",
   "metadata": {},
   "outputs": [],
   "source": [
    "import numpy as np\n",
    "from keras.layers import Dense, Activation, Flatten, Dropout\n",
    "from keras.layers import Conv2D, MaxPooling2D\n",
    "from keras.models import Sequential\n",
    "from keras.callbacks import ModelCheckpoint\n",
    "from sklearn.model_selection import train_test_split"
   ]
  },
  {
   "cell_type": "code",
   "execution_count": 2,
   "id": "15313937",
   "metadata": {},
   "outputs": [],
   "source": [
    "data = np.load(\"data.npy\")\n",
    "target = np.load(\"target.npy\")"
   ]
  },
  {
   "cell_type": "code",
   "execution_count": 3,
   "id": "3bf8e234",
   "metadata": {},
   "outputs": [],
   "source": [
    "model = Sequential([\n",
    "    Conv2D(100, (3,3), input_shape=data.shape[1:]),\n",
    "    Activation('relu'),\n",
    "    MaxPooling2D(pool_size=(2,2)),\n",
    "    Conv2D(100, (3,3)),\n",
    "    Activation('relu'),\n",
    "    MaxPooling2D(pool_size=(2,2)),\n",
    "    Flatten(),\n",
    "    Dropout(0.5),\n",
    "    Dense(50, activation='relu'),\n",
    "    Dense(2, activation='softmax')\n",
    "])"
   ]
  },
  {
   "cell_type": "code",
   "execution_count": 4,
   "id": "a8d1726f",
   "metadata": {},
   "outputs": [],
   "source": [
    "model.compile(loss='binary_crossentropy', optimizer='adam', metrics= ['accuracy'])"
   ]
  },
  {
   "cell_type": "code",
   "execution_count": 5,
   "id": "90003ba4",
   "metadata": {},
   "outputs": [
    {
     "name": "stdout",
     "output_type": "stream",
     "text": [
      "Epoch 1/20\n",
      "152/152 [==============================] - 132s 779ms/step - loss: 0.6671 - accuracy: 0.5855 - val_loss: 0.6331 - val_accuracy: 0.6716\n",
      "INFO:tensorflow:Assets written to: model-001.model\\assets\n",
      "Epoch 2/20\n",
      "152/152 [==============================] - 118s 777ms/step - loss: 0.4950 - accuracy: 0.7559 - val_loss: 0.4433 - val_accuracy: 0.8023\n",
      "INFO:tensorflow:Assets written to: model-002.model\\assets\n",
      "Epoch 3/20\n",
      "152/152 [==============================] - 123s 810ms/step - loss: 0.3763 - accuracy: 0.8342 - val_loss: 0.3669 - val_accuracy: 0.8362\n",
      "INFO:tensorflow:Assets written to: model-003.model\\assets\n",
      "Epoch 4/20\n",
      "152/152 [==============================] - 125s 826ms/step - loss: 0.2834 - accuracy: 0.8836 - val_loss: 0.3546 - val_accuracy: 0.8553\n",
      "INFO:tensorflow:Assets written to: model-004.model\\assets\n",
      "Epoch 5/20\n",
      "152/152 [==============================] - 142s 940ms/step - loss: 0.2518 - accuracy: 0.9006 - val_loss: 0.3615 - val_accuracy: 0.8437\n",
      "INFO:tensorflow:Assets written to: model-005.model\\assets\n",
      "Epoch 6/20\n",
      "152/152 [==============================] - 136s 896ms/step - loss: 0.1838 - accuracy: 0.9244 - val_loss: 0.3744 - val_accuracy: 0.8602\n",
      "INFO:tensorflow:Assets written to: model-006.model\\assets\n",
      "Epoch 7/20\n",
      "152/152 [==============================] - 127s 837ms/step - loss: 0.1478 - accuracy: 0.9470 - val_loss: 0.3598 - val_accuracy: 0.8751\n",
      "INFO:tensorflow:Assets written to: model-007.model\\assets\n",
      "Epoch 8/20\n",
      "152/152 [==============================] - 120s 789ms/step - loss: 0.1169 - accuracy: 0.9602 - val_loss: 0.3893 - val_accuracy: 0.8693\n",
      "INFO:tensorflow:Assets written to: model-008.model\\assets\n",
      "Epoch 9/20\n",
      "152/152 [==============================] - 118s 769ms/step - loss: 0.0857 - accuracy: 0.9711 - val_loss: 0.4314 - val_accuracy: 0.8701\n",
      "INFO:tensorflow:Assets written to: model-009.model\\assets\n",
      "Epoch 10/20\n",
      "152/152 [==============================] - 80s 526ms/step - loss: 0.0635 - accuracy: 0.9812 - val_loss: 0.4284 - val_accuracy: 0.8743\n",
      "INFO:tensorflow:Assets written to: model-010.model\\assets\n",
      "Epoch 11/20\n",
      "152/152 [==============================] - 74s 485ms/step - loss: 0.0562 - accuracy: 0.9824 - val_loss: 0.4394 - val_accuracy: 0.8759\n",
      "INFO:tensorflow:Assets written to: model-011.model\\assets\n",
      "Epoch 12/20\n",
      "152/152 [==============================] - 74s 488ms/step - loss: 0.0631 - accuracy: 0.9813 - val_loss: 0.4650 - val_accuracy: 0.8792\n",
      "INFO:tensorflow:Assets written to: model-012.model\\assets\n",
      "Epoch 13/20\n",
      "152/152 [==============================] - 73s 479ms/step - loss: 0.0369 - accuracy: 0.9890 - val_loss: 0.4438 - val_accuracy: 0.8825\n",
      "INFO:tensorflow:Assets written to: model-013.model\\assets\n",
      "Epoch 14/20\n",
      "152/152 [==============================] - 72s 473ms/step - loss: 0.0346 - accuracy: 0.9917 - val_loss: 0.4717 - val_accuracy: 0.8718\n",
      "INFO:tensorflow:Assets written to: model-014.model\\assets\n",
      "Epoch 15/20\n",
      "152/152 [==============================] - 71s 468ms/step - loss: 0.0239 - accuracy: 0.9939 - val_loss: 0.5592 - val_accuracy: 0.8734\n",
      "INFO:tensorflow:Assets written to: model-015.model\\assets\n",
      "Epoch 16/20\n",
      "152/152 [==============================] - 71s 465ms/step - loss: 0.0261 - accuracy: 0.9930 - val_loss: 0.5219 - val_accuracy: 0.8809\n",
      "INFO:tensorflow:Assets written to: model-016.model\\assets\n",
      "Epoch 17/20\n",
      "152/152 [==============================] - 71s 468ms/step - loss: 0.0250 - accuracy: 0.9918 - val_loss: 0.5786 - val_accuracy: 0.8792\n",
      "INFO:tensorflow:Assets written to: model-017.model\\assets\n",
      "Epoch 18/20\n",
      "152/152 [==============================] - 72s 471ms/step - loss: 0.0217 - accuracy: 0.9935 - val_loss: 0.5682 - val_accuracy: 0.8677\n",
      "INFO:tensorflow:Assets written to: model-018.model\\assets\n",
      "Epoch 19/20\n",
      "152/152 [==============================] - 73s 477ms/step - loss: 0.0235 - accuracy: 0.9953 - val_loss: 0.5704 - val_accuracy: 0.8644\n",
      "INFO:tensorflow:Assets written to: model-019.model\\assets\n",
      "Epoch 20/20\n",
      "152/152 [==============================] - 72s 471ms/step - loss: 0.0849 - accuracy: 0.9686 - val_loss: 0.5801 - val_accuracy: 0.8792\n",
      "INFO:tensorflow:Assets written to: model-020.model\\assets\n"
     ]
    }
   ],
   "source": [
    "X_train, X_test, y_train, y_test = train_test_split(data, target, test_size = 0.2)\n",
    "\n",
    "checkpoint = ModelCheckpoint(\n",
    "'model-{epoch:03d}.model',\n",
    "    verbose = 0,\n",
    "    monitor = 'val_loss',\n",
    "    mode = 'auto'\n",
    ")\n",
    "\n",
    "history = model.fit(X_train, y_train, epochs=20, validation_split = 0.2, callbacks = [checkpoint])"
   ]
  },
  {
   "cell_type": "code",
   "execution_count": 6,
   "id": "b1399196",
   "metadata": {},
   "outputs": [
    {
     "name": "stdout",
     "output_type": "stream",
     "text": [
      "48/48 [==============================] - 5s 102ms/step - loss: 0.4397 - accuracy: 0.8822\n",
      "[0.4396802484989166, 0.8821972012519836]\n"
     ]
    }
   ],
   "source": [
    "print(model.evaluate(X_test, y_test))"
   ]
  }
 ],
 "metadata": {
  "kernelspec": {
   "display_name": "Python 3",
   "language": "python",
   "name": "python3"
  },
  "language_info": {
   "codemirror_mode": {
    "name": "ipython",
    "version": 3
   },
   "file_extension": ".py",
   "mimetype": "text/x-python",
   "name": "python",
   "nbconvert_exporter": "python",
   "pygments_lexer": "ipython3",
   "version": "3.8.8"
  }
 },
 "nbformat": 4,
 "nbformat_minor": 5
}
