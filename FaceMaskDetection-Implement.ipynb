{
 "cells": [
  {
   "cell_type": "code",
   "execution_count": 1,
   "id": "131ac190",
   "metadata": {},
   "outputs": [],
   "source": [
    "import cv2 \n",
    "from keras.models import load_model\n",
    "import numpy as np"
   ]
  },
  {
   "cell_type": "code",
   "execution_count": 2,
   "id": "672f617c",
   "metadata": {},
   "outputs": [],
   "source": [
    "model = load_model('model-013.model')\n",
    "face_clf = cv2.CascadeClassifier('haarcascade_frontalface_default.xml')"
   ]
  },
  {
   "cell_type": "code",
   "execution_count": 4,
   "id": "d7c9a30f",
   "metadata": {},
   "outputs": [],
   "source": [
    "video = cv2.VideoCapture(0)\n",
    "label_dict = {0: 'Without Mask', 1: 'With Mask'}\n",
    "color_dict = {0: (0,0,255), 1:(0,255,0)}\n",
    "\n",
    "while(True):\n",
    "    ret, frame = video.read()\n",
    "    gray = cv2.cvtColor(frame, cv2.COLOR_BGR2GRAY)\n",
    "    faces = face_clf.detectMultiScale(gray, 1.3, 5)\n",
    "    \n",
    "    for x, y, w, h in faces:\n",
    "        \n",
    "        face_img = gray[y:y+w,x:x+w]\n",
    "        resized = cv2.resize(face_img, (100,100))\n",
    "        normalized = resized/255.0\n",
    "        reshaped = np.reshape(normalized, (1,100,100,1))\n",
    "        reshaped = np.vstack([reshaped])\n",
    "        result = model.predict(reshaped)\n",
    "        \n",
    "        label = np.argmax(result, axis=1)[0]\n",
    "        \n",
    "        cv2.rectangle(frame, (x,y), (x+w, y+h), color_dict[label], 2)\n",
    "        cv2.rectangle(frame, (x, y-40), (x+w, y), color_dict[label], -1)\n",
    "        cv2.putText(\n",
    "        frame, label_dict[label],\n",
    "            (x, y-10),\n",
    "            cv2.FONT_HERSHEY_TRIPLEX, 0.8, (255,255,255), 2\n",
    "        )    \n",
    "    cv2.imshow('Live', frame)\n",
    "    key = cv2.waitKey(1)\n",
    "    \n",
    "    if(key==27):\n",
    "        break\n",
    "               \n",
    "cv2.destroyAllWindows()\n",
    "video.release() "
   ]
  },
  {
   "cell_type": "code",
   "execution_count": null,
   "id": "f7e50cd8",
   "metadata": {},
   "outputs": [],
   "source": []
  }
 ],
 "metadata": {
  "kernelspec": {
   "display_name": "Python 3",
   "language": "python",
   "name": "python3"
  },
  "language_info": {
   "codemirror_mode": {
    "name": "ipython",
    "version": 3
   },
   "file_extension": ".py",
   "mimetype": "text/x-python",
   "name": "python",
   "nbconvert_exporter": "python",
   "pygments_lexer": "ipython3",
   "version": "3.8.8"
  }
 },
 "nbformat": 4,
 "nbformat_minor": 5
}
